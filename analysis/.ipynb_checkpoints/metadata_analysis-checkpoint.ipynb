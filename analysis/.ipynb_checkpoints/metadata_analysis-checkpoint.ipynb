{
 "cells": [
  {
   "cell_type": "markdown",
   "id": "cabd1f8d-5551-4906-b65a-d50f3f350a49",
   "metadata": {},
   "source": [
    "# Meta Data Analysis"
   ]
  },
  {
   "cell_type": "code",
   "execution_count": 1,
   "id": "b07abf1b-6250-4785-a68c-9fdd017f0567",
   "metadata": {},
   "outputs": [],
   "source": [
    "import os\n",
    "import json\n",
    "import pandas as pd\n",
    "\n",
    "def load_json_files_from_directory(directory):\n",
    "    json_files_data = {}\n",
    "    \n",
    "    # Walk through the directory\n",
    "    for root, dirs, files in os.walk(directory):\n",
    "        for file in files:\n",
    "            if file.endswith('.json'):\n",
    "                file_path = os.path.join(root, file)\n",
    "                try:\n",
    "                    with open(file_path, 'r', encoding='utf-8') as f:\n",
    "                        json_data = json.load(f)\n",
    "                        json_files_data[file_path] = pd.json_normalize(json_data)\n",
    "                except json.JSONDecodeError as e:\n",
    "                    print(f\"Error decoding JSON from {file_path}: {e}\")\n",
    "                except IOError as e:\n",
    "                    print(f\"Error reading {file_path}: {e}\")\n",
    "    \n",
    "    return json_files_data\n",
    "\n",
    "    \n",
    "directory_path = '../Hackthon_JDOPCenter_Data/Farm1_Jennewein'\n",
    "all_json_data = load_json_files_from_directory(directory_path)\n",
    "\n",
    "df_agg = pd.concat(all_json_data)\n",
    "\n"
   ]
  },
  {
   "cell_type": "code",
   "execution_count": 2,
   "id": "07f8a745-02b7-454e-959f-16d8309870a5",
   "metadata": {},
   "outputs": [
    {
     "data": {
      "application/vnd.jupyter.widget-view+json": {
       "model_id": "220e89e1e31b44f0ba745bad8c7f35eb",
       "version_major": 2,
       "version_minor": 0
      },
      "text/plain": [
       "Summarize dataset:   0%|          | 0/5 [00:00<?, ?it/s]"
      ]
     },
     "metadata": {},
     "output_type": "display_data"
    },
    {
     "name": "stderr",
     "output_type": "stream",
     "text": [
      "/home/larsjaeger/.cache/pypoetry/virtualenvs/grainopt-_jU2WlIW-py3.12/lib/python3.12/site-packages/ydata_profiling/model/pandas/describe_date_pandas.py:44: UserWarning: Discarding nonzero nanoseconds in conversion.\n",
      "  \"min\": pd.Timestamp.to_pydatetime(series.min()),\n",
      "/home/larsjaeger/.cache/pypoetry/virtualenvs/grainopt-_jU2WlIW-py3.12/lib/python3.12/site-packages/ydata_profiling/model/pandas/describe_date_pandas.py:45: UserWarning: Discarding nonzero nanoseconds in conversion.\n",
      "  \"max\": pd.Timestamp.to_pydatetime(series.max()),\n"
     ]
    },
    {
     "data": {
      "application/vnd.jupyter.widget-view+json": {
       "model_id": "72e68cc1383e4ce388edd641fbb6ec08",
       "version_major": 2,
       "version_minor": 0
      },
      "text/plain": [
       "Generate report structure:   0%|          | 0/1 [00:00<?, ?it/s]"
      ]
     },
     "metadata": {},
     "output_type": "display_data"
    },
    {
     "name": "stderr",
     "output_type": "stream",
     "text": [
      "/home/larsjaeger/.cache/pypoetry/virtualenvs/grainopt-_jU2WlIW-py3.12/lib/python3.12/site-packages/ydata_profiling/visualisation/plot.py:429: UserWarning: No artists with labels found to put in legend.  Note that artists whose label start with an underscore are ignored when legend() is called with no argument.\n",
      "  legend = ax.legend(\n"
     ]
    },
    {
     "data": {
      "application/vnd.jupyter.widget-view+json": {
       "model_id": "7b659642c6924fbfb816af7b6c5441df",
       "version_major": 2,
       "version_minor": 0
      },
      "text/plain": [
       "Render HTML:   0%|          | 0/1 [00:00<?, ?it/s]"
      ]
     },
     "metadata": {},
     "output_type": "display_data"
    },
    {
     "data": {
      "application/vnd.jupyter.widget-view+json": {
       "model_id": "889781be0e6f458492e2ec32f69c5672",
       "version_major": 2,
       "version_minor": 0
      },
      "text/plain": [
       "Export report to file:   0%|          | 0/1 [00:00<?, ?it/s]"
      ]
     },
     "metadata": {},
     "output_type": "display_data"
    }
   ],
   "source": [
    "from ydata_profiling import ProfileReport\n",
    "ProfileReport(df_agg).to_file(\"metadata_report.html\")"
   ]
  },
  {
   "cell_type": "code",
   "execution_count": 3,
   "id": "702e8cde-23c1-41a1-a837-5ece3c87cf84",
   "metadata": {},
   "outputs": [],
   "source": [
    "def build_empty_denormalized_json(field_names):\n",
    "    values = [None for _ in field_names]\n",
    "    result = {}\n",
    "    for name, value in zip(field_names.split(\", \"), values):\n",
    "        parts = name.split(\".\")\n",
    "        d = result\n",
    "        for part in parts[:-1]:\n",
    "            d = d.setdefault(part, {})\n",
    "        d[parts[-1]] = value\n",
    "    return result\n",
    "\n"
   ]
  }
 ],
 "metadata": {
  "kernelspec": {
   "display_name": "Python 3 (ipykernel)",
   "language": "python",
   "name": "python3"
  },
  "language_info": {
   "codemirror_mode": {
    "name": "ipython",
    "version": 3
   },
   "file_extension": ".py",
   "mimetype": "text/x-python",
   "name": "python",
   "nbconvert_exporter": "python",
   "pygments_lexer": "ipython3",
   "version": "3.12.7"
  }
 },
 "nbformat": 4,
 "nbformat_minor": 5
}
